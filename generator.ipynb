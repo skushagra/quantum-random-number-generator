{
 "cells": [
  {
   "cell_type": "code",
   "execution_count": 163,
   "id": "e4c60934-470f-4431-a413-b97fcf77447f",
   "metadata": {
    "tags": []
   },
   "outputs": [],
   "source": [
    "# Importing standard Qiskit libraries\n",
    "from qiskit import QuantumCircuit, transpile, execute, Aer\n",
    "from qiskit.tools.jupyter import *\n",
    "from qiskit.visualization import *\n",
    "from ibm_quantum_widgets import *\n",
    "from qiskit_aer import AerSimulator\n",
    "from numpy import pi\n",
    "\n",
    "# qiskit-ibmq-provider has been deprecated.\n",
    "# Please see the Migration Guides in https://ibm.biz/provider_migration_guide for more detail.\n",
    "from qiskit_ibm_runtime import QiskitRuntimeService, Sampler, Estimator, Session, Options\n",
    "\n",
    "# Loading your IBM Quantum account(s)\n",
    "service = QiskitRuntimeService(channel=\"ibm_quantum\")\n",
    "\n",
    "# Invoke a primitive inside a session. For more details see https://qiskit.org/documentation/partners/qiskit_ibm_runtime/tutorials.html\n",
    "# with Session(backend=service.backend(\"ibmq_qasm_simulator\")):\n",
    "#     result = Sampler().run(circuits).result()"
   ]
  },
  {
   "cell_type": "code",
   "execution_count": 164,
   "id": "4242b59d-a768-4838-9f9e-d04f61b78f60",
   "metadata": {
    "tags": []
   },
   "outputs": [],
   "source": [
    "import random\n",
    "\n",
    "\n",
    "def xy_toget():\n",
    "    ll = 1000\n",
    "    ul = 9999\n",
    "\n",
    "    avg_l = (ll+ul)/2\n",
    "\n",
    "    ns = random.randint(ll,ul)\n",
    "\n",
    "    circuit = QuantumCircuit(1,1)\n",
    "    circuit.rx(pi/2, 0)\n",
    "    circuit.ry(pi/2, 0)\n",
    "    circuit.measure(0,0)\n",
    "    circuit.draw()\n",
    "    exec = execute(circuit, backend=Aer.get_backend('qasm_simulator'), shots=ns).result()\n",
    "    n0 = exec.get_counts()['0']\n",
    "    n1 = exec.get_counts()['1']\n",
    "    random_number = n0 * n1\n",
    "    return random_number\n",
    "\n",
    "def xy_indp():\n",
    "    ll = 100\n",
    "    ul = 999\n",
    "\n",
    "    avg_l = (ll+ul)/2\n",
    "\n",
    "    ns = random.randint(ll,ul)\n",
    "\n",
    "    circuit = QuantumCircuit(1,1)\n",
    "    circuit.rx(pi/2, 0)\n",
    "    circuit.measure(0,0)\n",
    "    circuit.draw()\n",
    "    exec = execute(circuit, backend=Aer.get_backend('qasm_simulator'), shots=ns).result()\n",
    "    n0 = exec.get_counts()['0']\n",
    "    n1 = exec.get_counts()['1']\n",
    "    random_number_x = n0 * n1\n",
    "\n",
    "\n",
    "    ns = random.randint(ll,ul)\n",
    "\n",
    "    circuit = QuantumCircuit(1,1)\n",
    "    circuit.ry(pi/2, 0)\n",
    "    circuit.measure(0,0)\n",
    "    circuit.draw()\n",
    "    exec = execute(circuit, backend=Aer.get_backend('qasm_simulator'), shots=ns).result()\n",
    "    n0 = exec.get_counts()['0']\n",
    "    n1 = exec.get_counts()['1']\n",
    "    random_number_y = n0 * n1\n",
    "    \n",
    "    return random_number_x*random_number_y"
   ]
  },
  {
   "cell_type": "code",
   "execution_count": 165,
   "id": "217b5426-e68e-4111-b9c5-f9f5aef2c410",
   "metadata": {
    "tags": []
   },
   "outputs": [],
   "source": [
    "def random_config(return_count):\n",
    "    if return_count == 1:\n",
    "        n1 = xy_toget()\n",
    "        n2 = xy_indp()\n",
    "        return n1*n2\n",
    "    lrn = list()\n",
    "    for i in range(return_count):\n",
    "        n1 = xy_toget()\n",
    "        n2 = xy_indp()\n",
    "        lrn.append(n1*n2)\n",
    "    return lrn"
   ]
  },
  {
   "cell_type": "code",
   "execution_count": 168,
   "id": "02abe4d8-e76b-4b7f-a2ed-02464d59f7e4",
   "metadata": {
    "tags": []
   },
   "outputs": [
    {
     "data": {
      "text/plain": [
       "[235051890583465368,\n",
       " 5508497693210400,\n",
       " 157319321702400,\n",
       " 1517412650614784,\n",
       " 186100881627299520,\n",
       " 1478830129267200,\n",
       " 1259883327830400,\n",
       " 3499453222221600,\n",
       " 35591739575509008,\n",
       " 8058908435415552]"
      ]
     },
     "execution_count": 168,
     "metadata": {},
     "output_type": "execute_result"
    }
   ],
   "source": [
    "random_config(10)"
   ]
  }
 ],
 "metadata": {
  "kernelspec": {
   "display_name": "Python 3 (ipykernel)",
   "language": "python",
   "name": "python3"
  },
  "language_info": {
   "codemirror_mode": {
    "name": "ipython",
    "version": 3
   },
   "file_extension": ".py",
   "mimetype": "text/x-python",
   "name": "python",
   "nbconvert_exporter": "python",
   "pygments_lexer": "ipython3",
   "version": "3.10.8"
  },
  "widgets": {
   "application/vnd.jupyter.widget-state+json": {
    "state": {
     "2121b8b2a81043c4b653b4b8899987b1": {
      "model_module": "@jupyter-widgets/controls",
      "model_module_version": "2.0.0",
      "model_name": "HTMLModel",
      "state": {
       "layout": "IPY_MODEL_a403558594e34db1a2c474f7a28e319a",
       "style": "IPY_MODEL_d14728a150ce4d0fac52afa11daba2e6",
       "value": "<h5>Queue</h5>"
      }
     },
     "308eef0bfc8d447c8ae5f6fd9c5dd5a4": {
      "model_module": "@jupyter-widgets/base",
      "model_module_version": "2.0.0",
      "model_name": "LayoutModel",
      "state": {
       "grid_area": "right",
       "padding": "0px 0px 0px 0px",
       "width": "70px"
      }
     },
     "3d7896db59084299ba870055bba5c4bd": {
      "model_module": "@jupyter-widgets/base",
      "model_module_version": "2.0.0",
      "model_name": "LayoutModel",
      "state": {}
     },
     "40e4359cd3e944b0bab65bc3ec905c64": {
      "model_module": "@jupyter-widgets/controls",
      "model_module_version": "2.0.0",
      "model_name": "HTMLStyleModel",
      "state": {
       "description_width": "",
       "font_size": null,
       "text_color": null
      }
     },
     "42bf87ce2d764397957d6ef1450de781": {
      "model_module": "@jupyter-widgets/controls",
      "model_module_version": "2.0.0",
      "model_name": "HTMLModel",
      "state": {
       "layout": "IPY_MODEL_45d7689de5814a87ad715e6abe738807",
       "style": "IPY_MODEL_b1417a09190f4c11aefa0812bbb1cbd4",
       "value": "<h5>Job ID</h5>"
      }
     },
     "4499460694f2416e8547ed02cac9634f": {
      "model_module": "@jupyter-widgets/controls",
      "model_module_version": "2.0.0",
      "model_name": "HTMLStyleModel",
      "state": {
       "description_width": "",
       "font_size": null,
       "text_color": null
      }
     },
     "45d7689de5814a87ad715e6abe738807": {
      "model_module": "@jupyter-widgets/base",
      "model_module_version": "2.0.0",
      "model_name": "LayoutModel",
      "state": {
       "width": "190px"
      }
     },
     "4a0477fb1b314e54953705fe18b1cd52": {
      "model_module": "@jupyter-widgets/controls",
      "model_module_version": "2.0.0",
      "model_name": "HTMLStyleModel",
      "state": {
       "description_width": "",
       "font_size": null,
       "text_color": null
      }
     },
     "573211fe872f48eaae449c6dff961fa7": {
      "model_module": "@jupyter-widgets/controls",
      "model_module_version": "2.0.0",
      "model_name": "HTMLModel",
      "state": {
       "layout": "IPY_MODEL_7bb999bcc79e4992a50c1353be587932",
       "style": "IPY_MODEL_4a0477fb1b314e54953705fe18b1cd52",
       "value": "<h5>Backend</h5>"
      }
     },
     "72302ea257d642cd8dcd4ff174b98c2f": {
      "model_module": "@jupyter-widgets/base",
      "model_module_version": "2.0.0",
      "model_name": "LayoutModel",
      "state": {
       "grid_template_areas": "\n                                       \". . . . right \"\n                                        ",
       "grid_template_columns": "20% 20% 20% 20% 20%",
       "width": "100%"
      }
     },
     "74d1dd4e087743a69a94ceb10e965a5d": {
      "model_module": "@jupyter-widgets/controls",
      "model_module_version": "2.0.0",
      "model_name": "ButtonStyleModel",
      "state": {
       "font_family": null,
       "font_size": null,
       "font_style": null,
       "font_variant": null,
       "font_weight": null,
       "text_color": null,
       "text_decoration": null
      }
     },
     "7bb999bcc79e4992a50c1353be587932": {
      "model_module": "@jupyter-widgets/base",
      "model_module_version": "2.0.0",
      "model_name": "LayoutModel",
      "state": {
       "width": "145px"
      }
     },
     "7ddfa54200574fb28feb1bb1306eb4ca": {
      "model_module": "@jupyter-widgets/base",
      "model_module_version": "2.0.0",
      "model_name": "LayoutModel",
      "state": {
       "width": "95px"
      }
     },
     "873b8be4836543d3a0c908f185d542af": {
      "model_module": "@jupyter-widgets/controls",
      "model_module_version": "2.0.0",
      "model_name": "ButtonModel",
      "state": {
       "button_style": "primary",
       "description": "Clear",
       "layout": "IPY_MODEL_308eef0bfc8d447c8ae5f6fd9c5dd5a4",
       "style": "IPY_MODEL_74d1dd4e087743a69a94ceb10e965a5d",
       "tooltip": null
      }
     },
     "89f674ef3e75460088226cf3d1f2a7a7": {
      "model_module": "@jupyter-widgets/controls",
      "model_module_version": "2.0.0",
      "model_name": "HTMLModel",
      "state": {
       "layout": "IPY_MODEL_7ddfa54200574fb28feb1bb1306eb4ca",
       "style": "IPY_MODEL_8fff1e9346ef4bd38df0c3d22564c358",
       "value": "<h5>Status</h5>"
      }
     },
     "8fff1e9346ef4bd38df0c3d22564c358": {
      "model_module": "@jupyter-widgets/controls",
      "model_module_version": "2.0.0",
      "model_name": "HTMLStyleModel",
      "state": {
       "description_width": "",
       "font_size": null,
       "text_color": null
      }
     },
     "9c950475433f433fa946f19fcec99562": {
      "model_module": "@jupyter-widgets/base",
      "model_module_version": "2.0.0",
      "model_name": "LayoutModel",
      "state": {
       "margin": "0px 0px 0px 37px",
       "width": "600px"
      }
     },
     "a403558594e34db1a2c474f7a28e319a": {
      "model_module": "@jupyter-widgets/base",
      "model_module_version": "2.0.0",
      "model_name": "LayoutModel",
      "state": {
       "width": "70px"
      }
     },
     "ab942a66dd93457ab741cea464be8a8c": {
      "model_module": "@jupyter-widgets/controls",
      "model_module_version": "2.0.0",
      "model_name": "GridBoxModel",
      "state": {
       "children": [
        "IPY_MODEL_873b8be4836543d3a0c908f185d542af"
       ],
       "layout": "IPY_MODEL_72302ea257d642cd8dcd4ff174b98c2f"
      }
     },
     "b1417a09190f4c11aefa0812bbb1cbd4": {
      "model_module": "@jupyter-widgets/controls",
      "model_module_version": "2.0.0",
      "model_name": "HTMLStyleModel",
      "state": {
       "description_width": "",
       "font_size": null,
       "text_color": null
      }
     },
     "bcdaffc4842540f4b4aa815a4ddf8f28": {
      "model_module": "@jupyter-widgets/base",
      "model_module_version": "2.0.0",
      "model_name": "LayoutModel",
      "state": {
       "margin": "0px 0px 10px 0px"
      }
     },
     "cd61d25e073b436d9b47ff3907ac5479": {
      "model_module": "@jupyter-widgets/controls",
      "model_module_version": "2.0.0",
      "model_name": "HTMLModel",
      "state": {
       "layout": "IPY_MODEL_3d7896db59084299ba870055bba5c4bd",
       "style": "IPY_MODEL_40e4359cd3e944b0bab65bc3ec905c64",
       "value": "<h5>Message</h5>"
      }
     },
     "d14728a150ce4d0fac52afa11daba2e6": {
      "model_module": "@jupyter-widgets/controls",
      "model_module_version": "2.0.0",
      "model_name": "HTMLStyleModel",
      "state": {
       "description_width": "",
       "font_size": null,
       "text_color": null
      }
     },
     "d17883deacb9430f86b30ed51afa773b": {
      "model_module": "@jupyter-widgets/controls",
      "model_module_version": "2.0.0",
      "model_name": "HBoxModel",
      "state": {
       "children": [
        "IPY_MODEL_42bf87ce2d764397957d6ef1450de781",
        "IPY_MODEL_573211fe872f48eaae449c6dff961fa7",
        "IPY_MODEL_89f674ef3e75460088226cf3d1f2a7a7",
        "IPY_MODEL_2121b8b2a81043c4b653b4b8899987b1",
        "IPY_MODEL_cd61d25e073b436d9b47ff3907ac5479"
       ],
       "layout": "IPY_MODEL_9c950475433f433fa946f19fcec99562"
      }
     },
     "dca3a1416a2c493daf3bf5b49f7a139e": {
      "model_module": "@jupyter-widgets/controls",
      "model_module_version": "2.0.0",
      "model_name": "HTMLModel",
      "state": {
       "layout": "IPY_MODEL_bcdaffc4842540f4b4aa815a4ddf8f28",
       "style": "IPY_MODEL_4499460694f2416e8547ed02cac9634f",
       "value": "<p style='font-family: IBM Plex Sans, Arial, Helvetica, sans-serif; font-size: 20px; font-weight: medium;'>Circuit Properties</p>"
      }
     }
    },
    "version_major": 2,
    "version_minor": 0
   }
  }
 },
 "nbformat": 4,
 "nbformat_minor": 5
}
